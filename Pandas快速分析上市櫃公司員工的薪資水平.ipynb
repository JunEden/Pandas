{
 "cells": [
  {
   "cell_type": "code",
   "execution_count": 1,
   "metadata": {},
   "outputs": [],
   "source": [
    "import requests\n",
    "url = 'https://mops.twse.com.tw/mops/web/ajax_t100sb15'\n",
    "payload = {\n",
    "'encodeURIComponent': '1',\n",
    "'step': '1',\n",
    "'firstin': '1',\n",
    "'TYPEK': 'sii',\n",
    "'RYEAR': '108'\n",
    "}\n",
    "res = requests.post(url, data = payload)"
   ]
  },
  {
   "cell_type": "code",
   "execution_count": 3,
   "metadata": {},
   "outputs": [],
   "source": [
    "import pandas\n",
    "dfs = pandas.read_html(res.text)"
   ]
  },
  {
   "cell_type": "code",
   "execution_count": 4,
   "metadata": {},
   "outputs": [],
   "source": [
    "df = dfs[0].iloc[:,[0,1,2,5,6,7]]"
   ]
  },
  {
   "cell_type": "code",
   "execution_count": 6,
   "metadata": {},
   "outputs": [
    {
     "data": {
      "text/html": [
       "<div>\n",
       "<style scoped>\n",
       "    .dataframe tbody tr th:only-of-type {\n",
       "        vertical-align: middle;\n",
       "    }\n",
       "\n",
       "    .dataframe tbody tr th {\n",
       "        vertical-align: top;\n",
       "    }\n",
       "\n",
       "    .dataframe thead tr th {\n",
       "        text-align: left;\n",
       "    }\n",
       "</style>\n",
       "<table border=\"1\" class=\"dataframe\">\n",
       "  <thead>\n",
       "    <tr>\n",
       "      <th></th>\n",
       "      <th>產業類別</th>\n",
       "      <th>公司代號</th>\n",
       "      <th>公司名稱</th>\n",
       "      <th colspan=\"3\" halign=\"left\">非擔任主管職務之全時員工資訊</th>\n",
       "    </tr>\n",
       "    <tr>\n",
       "      <th></th>\n",
       "      <th>產業類別</th>\n",
       "      <th>公司代號</th>\n",
       "      <th>公司名稱</th>\n",
       "      <th colspan=\"2\" halign=\"left\">員工薪資-平均數(仟元/人)</th>\n",
       "      <th>員工薪資-中位數(仟元/人)</th>\n",
       "    </tr>\n",
       "    <tr>\n",
       "      <th></th>\n",
       "      <th>產業類別</th>\n",
       "      <th>公司代號</th>\n",
       "      <th>公司名稱</th>\n",
       "      <th>108年</th>\n",
       "      <th>107年</th>\n",
       "      <th>108年</th>\n",
       "    </tr>\n",
       "  </thead>\n",
       "  <tbody>\n",
       "    <tr>\n",
       "      <th>0</th>\n",
       "      <td>水泥工業</td>\n",
       "      <td>1101</td>\n",
       "      <td>台泥</td>\n",
       "      <td>1017</td>\n",
       "      <td>963.0</td>\n",
       "      <td>876</td>\n",
       "    </tr>\n",
       "    <tr>\n",
       "      <th>1</th>\n",
       "      <td>水泥工業</td>\n",
       "      <td>1102</td>\n",
       "      <td>亞泥</td>\n",
       "      <td>1257</td>\n",
       "      <td>1230.0</td>\n",
       "      <td>1110</td>\n",
       "    </tr>\n",
       "    <tr>\n",
       "      <th>2</th>\n",
       "      <td>水泥工業</td>\n",
       "      <td>1103</td>\n",
       "      <td>嘉泥</td>\n",
       "      <td>1312</td>\n",
       "      <td>1196.0</td>\n",
       "      <td>1132</td>\n",
       "    </tr>\n",
       "    <tr>\n",
       "      <th>3</th>\n",
       "      <td>水泥工業</td>\n",
       "      <td>1104</td>\n",
       "      <td>環泥</td>\n",
       "      <td>785</td>\n",
       "      <td>822.0</td>\n",
       "      <td>722</td>\n",
       "    </tr>\n",
       "    <tr>\n",
       "      <th>4</th>\n",
       "      <td>水泥工業</td>\n",
       "      <td>1108</td>\n",
       "      <td>幸福</td>\n",
       "      <td>505</td>\n",
       "      <td>504.0</td>\n",
       "      <td>469</td>\n",
       "    </tr>\n",
       "  </tbody>\n",
       "</table>\n",
       "</div>"
      ],
      "text/plain": [
       "   產業類別  公司代號 公司名稱 非擔任主管職務之全時員工資訊                       \n",
       "   產業類別  公司代號 公司名稱 員工薪資-平均數(仟元/人)         員工薪資-中位數(仟元/人)\n",
       "   產業類別  公司代號 公司名稱           108年    107年           108年\n",
       "0  水泥工業  1101   台泥           1017   963.0            876\n",
       "1  水泥工業  1102   亞泥           1257  1230.0           1110\n",
       "2  水泥工業  1103   嘉泥           1312  1196.0           1132\n",
       "3  水泥工業  1104   環泥            785   822.0            722\n",
       "4  水泥工業  1108   幸福            505   504.0            469"
      ]
     },
     "execution_count": 6,
     "metadata": {},
     "output_type": "execute_result"
    }
   ],
   "source": [
    "df.head()"
   ]
  },
  {
   "cell_type": "code",
   "execution_count": 7,
   "metadata": {},
   "outputs": [],
   "source": [
    "df.columns = ['產業類別','公司代號','公司名稱','平均108','平均107','中位數108']"
   ]
  },
  {
   "cell_type": "code",
   "execution_count": 10,
   "metadata": {},
   "outputs": [
    {
     "data": {
      "text/html": [
       "<div>\n",
       "<style scoped>\n",
       "    .dataframe tbody tr th:only-of-type {\n",
       "        vertical-align: middle;\n",
       "    }\n",
       "\n",
       "    .dataframe tbody tr th {\n",
       "        vertical-align: top;\n",
       "    }\n",
       "\n",
       "    .dataframe thead th {\n",
       "        text-align: right;\n",
       "    }\n",
       "</style>\n",
       "<table border=\"1\" class=\"dataframe\">\n",
       "  <thead>\n",
       "    <tr style=\"text-align: right;\">\n",
       "      <th></th>\n",
       "      <th>產業類別</th>\n",
       "      <th>公司代號</th>\n",
       "      <th>公司名稱</th>\n",
       "      <th>平均108</th>\n",
       "      <th>平均107</th>\n",
       "      <th>中位數108</th>\n",
       "    </tr>\n",
       "  </thead>\n",
       "  <tbody>\n",
       "    <tr>\n",
       "      <th>511</th>\n",
       "      <td>半導體業</td>\n",
       "      <td>3034</td>\n",
       "      <td>聯詠</td>\n",
       "      <td>2713</td>\n",
       "      <td>2542.0</td>\n",
       "      <td>2398</td>\n",
       "    </tr>\n",
       "    <tr>\n",
       "      <th>272</th>\n",
       "      <td>其他電子業</td>\n",
       "      <td>2354</td>\n",
       "      <td>鴻準</td>\n",
       "      <td>3053</td>\n",
       "      <td>2457.0</td>\n",
       "      <td>2388</td>\n",
       "    </tr>\n",
       "    <tr>\n",
       "      <th>343</th>\n",
       "      <td>半導體業</td>\n",
       "      <td>2454</td>\n",
       "      <td>聯發科</td>\n",
       "      <td>2647</td>\n",
       "      <td>2705.0</td>\n",
       "      <td>2339</td>\n",
       "    </tr>\n",
       "    <tr>\n",
       "      <th>517</th>\n",
       "      <td>半導體業</td>\n",
       "      <td>3041</td>\n",
       "      <td>揚智</td>\n",
       "      <td>2416</td>\n",
       "      <td>1641.0</td>\n",
       "      <td>2054</td>\n",
       "    </tr>\n",
       "    <tr>\n",
       "      <th>292</th>\n",
       "      <td>半導體業</td>\n",
       "      <td>2379</td>\n",
       "      <td>瑞昱</td>\n",
       "      <td>2100</td>\n",
       "      <td>1993.0</td>\n",
       "      <td>1819</td>\n",
       "    </tr>\n",
       "    <tr>\n",
       "      <th>...</th>\n",
       "      <td>...</td>\n",
       "      <td>...</td>\n",
       "      <td>...</td>\n",
       "      <td>...</td>\n",
       "      <td>...</td>\n",
       "      <td>...</td>\n",
       "    </tr>\n",
       "    <tr>\n",
       "      <th>338</th>\n",
       "      <td>通信網路業</td>\n",
       "      <td>2444</td>\n",
       "      <td>兆勁</td>\n",
       "      <td>442</td>\n",
       "      <td>468.0</td>\n",
       "      <td>360</td>\n",
       "    </tr>\n",
       "    <tr>\n",
       "      <th>434</th>\n",
       "      <td>觀光事業</td>\n",
       "      <td>2712</td>\n",
       "      <td>遠雄來</td>\n",
       "      <td>427</td>\n",
       "      <td>431.0</td>\n",
       "      <td>348</td>\n",
       "    </tr>\n",
       "    <tr>\n",
       "      <th>429</th>\n",
       "      <td>觀光事業</td>\n",
       "      <td>2702</td>\n",
       "      <td>華園</td>\n",
       "      <td>407</td>\n",
       "      <td>386.0</td>\n",
       "      <td>344</td>\n",
       "    </tr>\n",
       "    <tr>\n",
       "      <th>435</th>\n",
       "      <td>觀光事業</td>\n",
       "      <td>2722</td>\n",
       "      <td>夏都</td>\n",
       "      <td>386</td>\n",
       "      <td>365.0</td>\n",
       "      <td>337</td>\n",
       "    </tr>\n",
       "    <tr>\n",
       "      <th>24</th>\n",
       "      <td>食品工業</td>\n",
       "      <td>1235</td>\n",
       "      <td>興泰</td>\n",
       "      <td>312</td>\n",
       "      <td>342.0</td>\n",
       "      <td>332</td>\n",
       "    </tr>\n",
       "  </tbody>\n",
       "</table>\n",
       "<p>859 rows × 6 columns</p>\n",
       "</div>"
      ],
      "text/plain": [
       "      產業類別  公司代號 公司名稱  平均108   平均107  中位數108\n",
       "511   半導體業  3034   聯詠   2713  2542.0    2398\n",
       "272  其他電子業  2354   鴻準   3053  2457.0    2388\n",
       "343   半導體業  2454  聯發科   2647  2705.0    2339\n",
       "517   半導體業  3041   揚智   2416  1641.0    2054\n",
       "292   半導體業  2379   瑞昱   2100  1993.0    1819\n",
       "..     ...   ...  ...    ...     ...     ...\n",
       "338  通信網路業  2444   兆勁    442   468.0     360\n",
       "434   觀光事業  2712  遠雄來    427   431.0     348\n",
       "429   觀光事業  2702   華園    407   386.0     344\n",
       "435   觀光事業  2722   夏都    386   365.0     337\n",
       "24    食品工業  1235   興泰    312   342.0     332\n",
       "\n",
       "[859 rows x 6 columns]"
      ]
     },
     "execution_count": 10,
     "metadata": {},
     "output_type": "execute_result"
    }
   ],
   "source": [
    "df.sort_values('中位數108',ascending=False)"
   ]
  },
  {
   "cell_type": "code",
   "execution_count": 16,
   "metadata": {},
   "outputs": [
    {
     "data": {
      "text/plain": [
       "71.42"
      ]
     },
     "execution_count": 16,
     "metadata": {},
     "output_type": "execute_result"
    }
   ],
   "source": [
    "import numpy\n",
    "a = (numpy.random.randn(100) * 10 +70).astype(int)\n",
    "a.mean()"
   ]
  },
  {
   "cell_type": "code",
   "execution_count": 19,
   "metadata": {},
   "outputs": [
    {
     "data": {
      "text/plain": [
       "72.0"
      ]
     },
     "execution_count": 19,
     "metadata": {},
     "output_type": "execute_result"
    }
   ],
   "source": [
    "s = pandas.Series(a)\n",
    "s.median()"
   ]
  },
  {
   "cell_type": "code",
   "execution_count": null,
   "metadata": {},
   "outputs": [],
   "source": [
    "#這邊示範如果不用中位數只用平均數會變成怎樣薪資平均所得"
   ]
  },
  {
   "cell_type": "code",
   "execution_count": 20,
   "metadata": {},
   "outputs": [],
   "source": [
    "b = numpy.array([1000])\n",
    "m = numpy.concatenate([a,b])"
   ]
  },
  {
   "cell_type": "code",
   "execution_count": 21,
   "metadata": {},
   "outputs": [
    {
     "data": {
      "text/plain": [
       "array([  75,   69,   70,   91,   58,   73,   82,   77,   85,   72,   76,\n",
       "         75,   45,   79,   64,   83,   72,   65,   71,   83,   62,   80,\n",
       "         65,   87,   79,   86,   66,   73,   82,   77,   71,   81,   44,\n",
       "         75,   48,   73,   79,   76,   77,   77,   69,   76,   67,   69,\n",
       "         62,   65,   66,   74,   65,   59,   74,   61,   64,   71,   79,\n",
       "         75,   80,   78,   79,   71,   71,   60,   80,   72,   65,   87,\n",
       "         80,   77,   66,   85,   64,   74,   74,   71,   59,   84,   51,\n",
       "         69,   70,   59,   64,   82,   88,   83,   69,   66,   70,   76,\n",
       "         65,   85,   80,   63,   54,   62,   72,   60,   58,   56,   68,\n",
       "         76, 1000])"
      ]
     },
     "execution_count": 21,
     "metadata": {},
     "output_type": "execute_result"
    }
   ],
   "source": [
    "m"
   ]
  },
  {
   "cell_type": "code",
   "execution_count": 22,
   "metadata": {},
   "outputs": [],
   "source": [
    "s2 = pandas.Series(m)"
   ]
  },
  {
   "cell_type": "code",
   "execution_count": 24,
   "metadata": {},
   "outputs": [
    {
     "data": {
      "text/plain": [
       "72.0"
      ]
     },
     "execution_count": 24,
     "metadata": {},
     "output_type": "execute_result"
    }
   ],
   "source": [
    "s2.median()"
   ]
  },
  {
   "cell_type": "code",
   "execution_count": 26,
   "metadata": {},
   "outputs": [],
   "source": [
    "#這邊因為導入了高薪資的平順導自薪資會過於異常"
   ]
  },
  {
   "cell_type": "code",
   "execution_count": 25,
   "metadata": {},
   "outputs": [
    {
     "data": {
      "text/plain": [
       "80.61386138613861"
      ]
     },
     "execution_count": 25,
     "metadata": {},
     "output_type": "execute_result"
    }
   ],
   "source": [
    "s2.mean()"
   ]
  },
  {
   "cell_type": "code",
   "execution_count": null,
   "metadata": {},
   "outputs": [],
   "source": []
  }
 ],
 "metadata": {
  "kernelspec": {
   "display_name": "Python 3",
   "language": "python",
   "name": "python3"
  },
  "language_info": {
   "codemirror_mode": {
    "name": "ipython",
    "version": 3
   },
   "file_extension": ".py",
   "mimetype": "text/x-python",
   "name": "python",
   "nbconvert_exporter": "python",
   "pygments_lexer": "ipython3",
   "version": "3.8.3"
  }
 },
 "nbformat": 4,
 "nbformat_minor": 4
}
